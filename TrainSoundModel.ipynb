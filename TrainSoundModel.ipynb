{
 "cells": [
  {
   "cell_type": "code",
   "execution_count": null,
   "metadata": {},
   "outputs": [],
   "source": [
    "#Train Heart/Lung Sound Model One ~ Mboalab(Improve Digital Stethoscope AI App) ~ Outreachy 2023 \n",
    "#Author: Sumaya Ahmed Salihs \n",
    "#Inpired Project: https://www.kaggle.com/code/mohammadrezashafie/par-ebi"
   ]
  },
  {
   "cell_type": "code",
   "execution_count": null,
   "metadata": {
    "id": "U1P38s7DHaCU"
   },
   "outputs": [],
   "source": [
    "# Imports all libraies needed to run this project\n",
    "import glob\n",
    "import os\n",
    "import librosa as lib\n",
    "import pandas as pd\n",
    "import matplotlib.pyplot as plt\n",
    "%matplotlib inline\n",
    "import librosa.display\n",
    "import numpy as np\n",
    "import IPython.display as ipd\n",
    "import shutil\n",
    "import soundfile\n",
    "from tqdm import tqdm\n",
    "from sklearn.model_selection import StratifiedShuffleSplit\n",
    "import shutil\n",
    "from sklearn.preprocessing import LabelEncoder\n",
    "from keras.utils import to_categorical\n",
    "from keras.models import Sequential\n",
    "from keras.layers import Dense, Dropout, Activation, Flatten\n",
    "from keras.layers import Conv2D, MaxPooling2D\n",
    "from keras.optimizers import Adam\n",
    "from keras.callbacks import ModelCheckpoint\n",
    "from sklearn.metrics import classification_report, accuracy_score, confusion_matrix\n",
    "# from mlxtend.plotting import plot_confusion_matrix"
   ]
  },
  {
   "cell_type": "code",
   "execution_count": null,
   "metadata": {
    "colab": {
     "base_uri": "https://localhost:8080/"
    },
    "id": "eE-2RFLHQTVR",
    "outputId": "5fad76ae-c64d-4ebd-b9e9-1aafebd6f559"
   },
   "outputs": [],
   "source": [
    "import os\n",
    "os.chdir('[Home_dir_path]/Desktop/HeartBeatSounds/archive/')\n",
    "dir_path='[Home_dir_path]/Desktop/HeartBeatSounds/archive/'"
   ]
  },
  {
   "cell_type": "code",
   "execution_count": null,
   "metadata": {
    "id": "I-f_OZxMG0jr"
   },
   "outputs": [],
   "source": [
    "#Extracts the file names from the audio files\n",
    "def get_fileNames(path):\n",
    "    fileNames = [file for file in glob.glob(path)]\n",
    "    return fileNames"
   ]
  },
  {
   "cell_type": "code",
   "execution_count": null,
   "metadata": {
    "id": "Q14tslEZDGXj"
   },
   "outputs": [],
   "source": [
    "# Creating dataframe from the labelled audio files having duration equal to and more than 3 seconds\n",
    "def create_dataframe(dataframe_name):\n",
    "    audio = {'file_path': [], 'label': []}\n",
    "    unlabeled_files = ['Aunlabelledtest', 'Bunlabelledtest']\n",
    "    for folder in [dir_path+'set_a/', dir_path+'set_b/']:\n",
    "      fileNames = get_fileNames(folder + '//**')\n",
    "      for file in fileNames:\n",
    "        label = os.path.basename(file).split('_')[0]\n",
    "        if((lib.get_duration(filename=file)>3) and (label not in unlabeled_files)):\n",
    "          audio['file_path'].append(file)\n",
    "          audio['label'].append(label)\n",
    "\n",
    "    dataframe_name = pd.DataFrame(audio)\n",
    "    return dataframe_name"
   ]
  },
  {
   "cell_type": "code",
   "execution_count": null,
   "metadata": {
    "colab": {
     "base_uri": "https://localhost:8080/",
     "height": 419
    },
    "id": "H9TtnYqPa4RS",
    "outputId": "12baa8ff-06d9-43fd-e1ff-c933b01eae53"
   },
   "outputs": [],
   "source": [
    "# Creating a dataframe for the input audio data\n",
    "raw_data = create_dataframe('raw_data')\n",
    "raw_data\n",
    "# print(raw_data.size)"
   ]
  },
  {
   "cell_type": "code",
   "execution_count": null,
   "metadata": {
    "colab": {
     "base_uri": "https://localhost:8080/"
    },
    "id": "xFVgPbq_b-2G",
    "outputId": "9c7d6d5c-e019-4796-d0b3-d33977533a20"
   },
   "outputs": [],
   "source": [
    "type(raw_data)"
   ]
  },
  {
   "cell_type": "code",
   "execution_count": null,
   "metadata": {
    "colab": {
     "base_uri": "https://localhost:8080/"
    },
    "id": "v9LVsvxZdmMi",
    "outputId": "6826cb35-bb2d-412c-9aa4-2b8186807a0d"
   },
   "outputs": [],
   "source": [
    "# Counting the number of each labels in the dataframe\n",
    "raw_data.label.value_counts()"
   ]
  },
  {
   "cell_type": "code",
   "execution_count": null,
   "metadata": {
    "id": "v9Wre4OteQcO"
   },
   "outputs": [],
   "source": [
    "# Plotting Data Category Distribution\n",
    "def data_distribution(data):\n",
    "    plt.figure(figsize=(16,3))\n",
    "    data.label.value_counts().plot(kind='bar', title=\"Data Category distribution\")\n",
    "    plt.show()"
   ]
  },
  {
   "cell_type": "code",
   "execution_count": null,
   "metadata": {
    "id": "Iw7hCoxAfEuH"
   },
   "outputs": [],
   "source": [
    "# Plotting spectogram of an audio signal\n",
    "def spectrogram(file_path, label):\n",
    "  y, sr = lib.load(file_path)\n",
    "  plt.figure(figsize=(16,3))\n",
    "  plt.title(label + 'Log-Frequency Power Spectrogram')\n",
    "  data = lib.amplitude_to_db(np.abs(lib.stft(y)), ref=np.max)\n",
    "  lib.display.specshow(data, y_axis='log', x_axis='time')\n",
    "  plt.colorbar();"
   ]
  },
  {
   "cell_type": "code",
   "execution_count": null,
   "metadata": {
    "id": "kDEjwrCcge1y"
   },
   "outputs": [],
   "source": [
    "import librosa.display"
   ]
  },
  {
   "cell_type": "code",
   "execution_count": null,
   "metadata": {
    "colab": {
     "base_uri": "https://localhost:8080/"
    },
    "id": "GJBCLODugp33",
    "outputId": "ab574539-8980-4d83-fd52-635cc639a786"
   },
   "outputs": [],
   "source": [
    "# finding the unique labels in the raw dataset\n",
    "unique_labels = raw_data.label.unique()\n",
    "unique_labels"
   ]
  },
  {
   "cell_type": "code",
   "execution_count": null,
   "metadata": {
    "id": "Rsaimns4hEVp"
   },
   "outputs": [],
   "source": [
    "# Plotting Waveform of an audio signal\n",
    "def waveform(file_path, label):\n",
    "  y, sr = lib.load(file_path)\n",
    "  plt.figure(figsize=(16, 3))\n",
    "  plt.title(label + ' Sound Wave')\n",
    "  librosa.display.waveplot(y)\n",
    "  # librosa.display.waveplot(y, sr)\n"
   ]
  },
  {
   "cell_type": "code",
   "execution_count": null,
   "metadata": {
    "colab": {
     "base_uri": "https://localhost:8080/",
     "height": 701
    },
    "id": "1KkVCxmUhuY1",
    "outputId": "b392ea80-373c-4884-bb34-cb9acfc51327"
   },
   "outputs": [],
   "source": [
    "# Plotting graphs for Murmur Heartbeat Sound\n",
    "path = raw_data[raw_data.label==unique_labels[0]].file_path.iloc[3]\n",
    "print(path)\n",
    "waveform(path, unique_labels[0])\n",
    "spectrogram(path, unique_labels[0])\n",
    "ipd.Audio(path)"
   ]
  },
  {
   "cell_type": "code",
   "execution_count": null,
   "metadata": {
    "colab": {
     "base_uri": "https://localhost:8080/",
     "height": 701
    },
    "id": "OwkoGXeR8DGA",
    "outputId": "9257f177-f484-4cb4-f2b5-793b6397a158"
   },
   "outputs": [],
   "source": [
    "# Plotting graphs for Extrahls Heartbeat Sound\n",
    "path = raw_data[raw_data.label==unique_labels[1]].file_path.iloc[0]\n",
    "print(path)\n",
    "waveform(path, unique_labels[1])\n",
    "spectrogram(path, unique_labels[1])\n",
    "ipd.Audio(path)"
   ]
  },
  {
   "cell_type": "code",
   "execution_count": null,
   "metadata": {
    "colab": {
     "base_uri": "https://localhost:8080/"
    },
    "id": "34fOse02-FVb",
    "outputId": "15c0b414-365f-4649-cf39-3f66b105b46c"
   },
   "outputs": [],
   "source": [
    "#Plotting graphs for Artifact Heartbeat Sound\n",
    "path = raw_data[raw_data.label==unique_labels[2]].file_path.iloc[0]\n",
    "print(path)\n",
    "waveform(path,unique_labels[2])\n",
    "spectrogram(path,unique_labels[2])\n",
    "ipd.Audio(path)"
   ]
  },
  {
   "cell_type": "code",
   "execution_count": null,
   "metadata": {
    "colab": {
     "base_uri": "https://localhost:8080/",
     "height": 584
    },
    "id": "e7srwcQeArMR",
    "outputId": "eb8f1036-86cb-4f96-c956-a86a464712cc"
   },
   "outputs": [],
   "source": [
    "#Plotting graphs for Normal Heartbeat Sound\n",
    "path = raw_data[raw_data.label==unique_labels[3]].file_path.iloc[0]\n",
    "print(path)\n",
    "waveform(path,unique_labels[3])\n",
    "spectrogram(path,unique_labels[3])\n",
    "ipd.Audio(path)"
   ]
  },
  {
   "cell_type": "code",
   "execution_count": null,
   "metadata": {
    "colab": {
     "base_uri": "https://localhost:8080/",
     "height": 586
    },
    "id": "OnJ9sFWqBAgC",
    "outputId": "e8720231-afdd-4d96-a7c6-338fa30914e3"
   },
   "outputs": [],
   "source": [
    "#Plotting graphs for Extrastole Heatbeat Sound\n",
    "path = raw_data[raw_data.label==unique_labels[4]].file_path.iloc[4]\n",
    "print(path)\n",
    "waveform(path,unique_labels[4])\n",
    "spectrogram(path,unique_labels[4])\n",
    "ipd.Audio(path)"
   ]
  },
  {
   "cell_type": "markdown",
   "metadata": {
    "id": "wdcNwi1LCRh4"
   },
   "source": [
    "**Creating new audio files by using Data Augmentation Technique**"
   ]
  },
  {
   "cell_type": "code",
   "execution_count": null,
   "metadata": {
    "id": "hbpLkFhYCYoB"
   },
   "outputs": [],
   "source": [
    "# Changing only the speed of an audio signal with different rates and saving it\n",
    "def changing_speed(speed_rate, src_path, dst_path):\n",
    "    files = get_fileNames(src_path + \"//**\")\n",
    "    if not os.path.exists(dst_path):\n",
    "      os.makedirs(dst_path)\n",
    "    for file in tqdm(files):\n",
    "      label = os.path.basename(file).split('.')[0]\n",
    "      y, sr = lib.load(file)\n",
    "      updated_y = lib.effects.time_stretch(y, rate=speed_rate)\n",
    "      soundfile.write(dst_path + '//' + label + '_' + str(speed_rate) + \".wav\", updated_y, sr)"
   ]
  },
  {
   "cell_type": "code",
   "execution_count": null,
   "metadata": {
    "id": "3rRtANY4E8YO"
   },
   "outputs": [],
   "source": [
    "# Changing only the pitch of an audio signal with different steps and saving it\n",
    "def changing_pitch(step, src_path, dst_path):\n",
    "    files = get_fileNames(src_path + '//**')\n",
    "    if not os.path.exists(dst_path):\n",
    "      os.makedirs(dst_path)\n",
    "    for file in tqdm(files):\n",
    "      label = os.path.basename(file).split('.')[0]\n",
    "      y, sr = lib.load(file)\n",
    "      updated_y = lib.effects.pitch_shift(y, sr, n_steps=step)\n",
    "      soundfile.write(dst_path + '//' + label + '_' + str(step) + '.wav', updated_y, sr)"
   ]
  },
  {
   "cell_type": "code",
   "execution_count": null,
   "metadata": {
    "id": "pxstz_YmGlf7"
   },
   "outputs": [],
   "source": [
    "# Creating new files from changing pitch and speed of the input audio files\n",
    "def sound_augmentation(src_path, dst_path):\n",
    "    speed_rates = [1.08, 0.8, 1.10, 0.9]\n",
    "    for speed_rate in speed_rates:\n",
    "        changing_speed(speed_rate, src_path, dst_path)\n",
    "\n",
    "\n",
    "    steps = [2, -2, 2.5, -2.5]\n",
    "    for step in steps:\n",
    "        changing_pitch(step, src_path, dst_path)\n",
    "\n",
    "    files = get_fileNames(src_path + '//**')\n",
    "    for f in files:\n",
    "      shutil.copy(f, dst_path)\n"
   ]
  },
  {
   "cell_type": "code",
   "execution_count": null,
   "metadata": {
    "colab": {
     "base_uri": "https://localhost:8080/"
    },
    "id": "iHaFWfDhH3x_",
    "outputId": "fe0898b2-dc2e-4af3-ba60-c37c9afff5d5"
   },
   "outputs": [],
   "source": [
    "#ensure you are in the archive directory\n",
    "!mkdir working\n",
    "!mkdir working/Data2"
   ]
  },
  {
   "cell_type": "code",
   "execution_count": null,
   "metadata": {
    "id": "yHe_EIH7IZxS"
   },
   "outputs": [],
   "source": [
    "import os\n",
    "import shutil\n",
    "\n",
    "source = dir_path+'set_a/'\n",
    "destination = dir_path+'working/Data2/'\n",
    "\n",
    "# Get a list of files in the source directory\n",
    "file_list = os.listdir(source)\n",
    "\n",
    "# Iterate over the files and copy them to the destination directory\n",
    "for file_name in file_list:\n",
    "    source_file = os.path.join(source, file_name)\n",
    "    destination_file = os.path.join(destination, file_name)\n",
    "    shutil.copy2(source_file, destination_file)\n"
   ]
  },
  {
   "cell_type": "code",
   "execution_count": null,
   "metadata": {
    "id": "AEV6J-xeJwGR"
   },
   "outputs": [],
   "source": [
    "source = dir_path+'set_b/'\n",
    "destination = 'working/Data2/'\n",
    "\n",
    "# Get a list of files in the source directory\n",
    "file_list = os.listdir(source)\n",
    "\n",
    "# Iterate over the files and copy them to the destination directory\n",
    "for file_name in file_list:\n",
    "    source_file = os.path.join(source, file_name)\n",
    "    destination_file = os.path.join(destination, file_name)\n",
    "    shutil.copy(source_file, destination_file)\n"
   ]
  },
  {
   "cell_type": "code",
   "execution_count": null,
   "metadata": {
    "colab": {
     "base_uri": "https://localhost:8080/"
    },
    "id": "IFofm4clOFvH",
    "outputId": "1e3c16d6-3b55-4551-a1d5-a64eabec311e"
   },
   "outputs": [],
   "source": [
    "os.chdir(dir_path+'working')\n",
    "!mkdir OUT"
   ]
  },
  {
   "cell_type": "code",
   "execution_count": null,
   "metadata": {
    "colab": {
     "base_uri": "https://localhost:8080/"
    },
    "id": "emH5OQhjOQFs",
    "outputId": "2aef7f4d-1a8a-4e3a-d350-beac8b3fa1f6"
   },
   "outputs": [],
   "source": [
    "\n",
    "# Checking and creating new directory for saving newly generated audio files using data augmentation\n",
    "if os.path.exists(dir_path+'working/OUT'):\n",
    "  if len(get_fileNames(dir_path+'working/OUT//**')) == 4175:\n",
    "      print('Sound Augmentation Already Done and Saved')\n",
    "  else:\n",
    "      shutil.rmtree(dir_path+'working/OUT')\n",
    "      sound_augmentation(dir_path+'working/Data2', dir_path+'working/OUT')\n",
    "else:\n",
    "    sound_augmentation(dir_path+'working/Data2', dir_path+'working/OUT')\n"
   ]
  },
  {
   "cell_type": "code",
   "execution_count": null,
   "metadata": {
    "id": "5WXGHejqYibI"
   },
   "outputs": [],
   "source": [
    "# Creating dataframe from the labeled audio files having duration equal to and more than 3 seconds\n",
    "def create_dataframe(dataframe_name):\n",
    "    audio = {'file_path':[], 'label':[]}\n",
    "    unlabeled_files = ['Aunlabelledtest', 'Bunlabelledtest']\n",
    "    for folder in [dir_path+'working/OUT/']:\n",
    "        files = get_fileNames(folder + '//**')\n",
    "        for file in files:\n",
    "            label = os.path.basename(file).split('_')[0]\n",
    "            if((lib.get_duration(filename=file)>=3) and (label not in unlabeled_files)):\n",
    "              audio['file_path'].append(file)\n",
    "              audio['label'].append(label)\n",
    "\n",
    "    dataframe_name = pd.DataFrame(audio)\n",
    "    return dataframe_name\n",
    "\n"
   ]
  },
  {
   "cell_type": "code",
   "execution_count": null,
   "metadata": {
    "colab": {
     "base_uri": "https://localhost:8080/",
     "height": 419
    },
    "id": "8icUdw_ab8mD",
    "outputId": "7340feab-eb4e-4992-b8fa-7a62b877a5a8"
   },
   "outputs": [],
   "source": [
    "# Creating new dataframe from the Updated Audio Dataset\n",
    "final_data = create_dataframe('final_data')\n",
    "final_data"
   ]
  },
  {
   "cell_type": "code",
   "execution_count": null,
   "metadata": {
    "colab": {
     "base_uri": "https://localhost:8080/"
    },
    "id": "2bQIuaLhdQbH",
    "outputId": "dd5b580e-66b4-45c9-8046-6fadf111c495"
   },
   "outputs": [],
   "source": [
    "#Counting the number of lables in the final dataframe\n",
    "final_data.label.value_counts()"
   ]
  },
  {
   "cell_type": "code",
   "execution_count": null,
   "metadata": {
    "colab": {
     "base_uri": "https://localhost:8080/",
     "height": 292
    },
    "id": "uQkBLhuzddCu",
    "outputId": "8397c20f-053d-4929-d208-1b4bd7892f25"
   },
   "outputs": [],
   "source": [
    "#Data Distribution Graph\n",
    "data_distribution(final_data)"
   ]
  },
  {
   "cell_type": "code",
   "execution_count": null,
   "metadata": {
    "colab": {
     "base_uri": "https://localhost:8080/",
     "height": 509
    },
    "id": "yjJPob9kdi5s",
    "outputId": "e9e75837-faed-4348-d075-42a8bec3ea3c"
   },
   "outputs": [],
   "source": [
    "#Creating waveform for the normal and changed speed sound wave\n",
    "path = final_data[final_data.label==unique_labels[4]].file_path.iloc[4]\n",
    "waveform(dir_path+\"working/OUT//normal_noisynormal_101_1305030823364_B.wav\",\"Normal(1x)\")\n",
    "waveform(dir_path+\"working/OUT///normal_noisynormal_101_1305030823364_B_1.08.wav\",\"Normal(1.08x)\")"
   ]
  },
  {
   "cell_type": "code",
   "execution_count": null,
   "metadata": {
    "colab": {
     "background_save": true,
     "base_uri": "https://localhost:8080/",
     "height": 509
    },
    "id": "dAguK6nMgH-D",
    "outputId": "9cbbf6e4-b814-47c1-967c-f5d920ceaa61"
   },
   "outputs": [],
   "source": [
    "#Creating waveform for the normal and changed pitch sound wave\n",
    "path = final_data[final_data.label==unique_labels[4]].file_path.iloc[4]\n",
    "waveform(dir_path+\"working/OUT//normal_noisynormal_101_1305030823364_B.wav\",\"Normal\")\n",
    "waveform(dir_path+\"working/OUT//normal_noisynormal_101_1305030823364_B_2.5.wav\",\"Normal(pitch=2.5)\")"
   ]
  },
  {
   "cell_type": "markdown",
   "metadata": {
    "id": "ZBqEgPSlgj-Q"
   },
   "source": [
    "**Data Splitting into Training and Testing Data sets**\n",
    "\n"
   ]
  },
  {
   "cell_type": "code",
   "execution_count": null,
   "metadata": {
    "id": "5wl3LSTJgn3E"
   },
   "outputs": [],
   "source": [
    "# Splitting the Data into Training Data and Testing Data in the proportion of 80:20 (Train:Test)\n",
    "split = StratifiedShuffleSplit(n_splits=1, test_size=0.2, random_state=42)\n",
    "for train_idx, test_idx in split.split(final_data, final_data.label):\n",
    "    train_data = final_data.loc[train_idx]\n",
    "    test_data = final_data.loc[test_idx]"
   ]
  },
  {
   "cell_type": "code",
   "execution_count": null,
   "metadata": {
    "colab": {
     "base_uri": "https://localhost:8080/",
     "height": 419
    },
    "id": "LoRiBSXtjcIn",
    "outputId": "fba957d6-3dfe-4df8-a1bf-fc17c4c5bdea"
   },
   "outputs": [],
   "source": [
    "#Total Training data\n",
    "train_data"
   ]
  },
  {
   "cell_type": "code",
   "execution_count": null,
   "metadata": {
    "colab": {
     "base_uri": "https://localhost:8080/",
     "height": 419
    },
    "id": "D1LEMeQtjo2Z",
    "outputId": "ce319812-5015-4df3-9cc3-8e06978e1a26"
   },
   "outputs": [],
   "source": [
    "#Total Testing data\n",
    "test_data"
   ]
  },
  {
   "cell_type": "markdown",
   "metadata": {
    "id": "Sq4O5PA6jyfe"
   },
   "source": [
    "MFCC Feature Extraction from Audio Files"
   ]
  },
  {
   "cell_type": "code",
   "execution_count": null,
   "metadata": {
    "id": "2vZo-6A4kBEd"
   },
   "outputs": [],
   "source": [
    "#Setting the sampling audio rate to 22050, setting the duration only to 3 seconds and finally\n",
    "# extraction of MFCC features\n",
    "def feature_extraction(file_path):\n",
    "    y, sr = lib.load(file_path, duration=3)\n",
    "    mfcc = lib.feature.mfcc(y=y, sr=sr,n_mfcc=128)\n",
    "    return mfcc"
   ]
  },
  {
   "cell_type": "code",
   "execution_count": null,
   "metadata": {
    "id": "1rIljxakJu6L"
   },
   "outputs": [],
   "source": [
    "x_train = np.asarray([feature_extraction(train_data.file_path.iloc[i]) for i in (range(len(train_data)))])\n",
    "x_test = np.asarray([feature_extraction(test_data.file_path.iloc[i]) for i in (range(len(test_data)))])"
   ]
  },
  {
   "cell_type": "code",
   "execution_count": null,
   "metadata": {
    "colab": {
     "base_uri": "https://localhost:8080/"
    },
    "id": "HTyCFFL1K5cN",
    "outputId": "5a9c078f-12e2-4998-aeeb-1a5e961bfe86"
   },
   "outputs": [],
   "source": [
    "# Changing the shape of the Training and Testing inputs to (3340, 128, 130, 1) to meet the CNN input requirements\n",
    "x_train = x_train.reshape(x_train.shape[0], x_train.shape[1], x_train.shape[2], 1)\n",
    "x_test = x_test.reshape(x_test.shape[0], x_test.shape[1], x_test.shape[2], 1)\n",
    "print('X_Train Shape: ', x_train.shape)\n",
    "print('X_Test Shape: ', x_test.shape)\n"
   ]
  },
  {
   "cell_type": "code",
   "execution_count": null,
   "metadata": {
    "id": "9t1s0-OjR11x"
   },
   "outputs": [],
   "source": [
    "# Encode the labels into numbers from string values\n",
    "encode = LabelEncoder()\n",
    "y_train = encode.fit_transform(train_data.label)\n",
    "y_test = encode.fit_transform(test_data.label)"
   ]
  },
  {
   "cell_type": "code",
   "execution_count": null,
   "metadata": {
    "colab": {
     "base_uri": "https://localhost:8080/"
    },
    "id": "s-gmg4VRSl1r",
    "outputId": "c63a261f-f31b-4ddd-c3c1-011eb4ef5724"
   },
   "outputs": [],
   "source": [
    "# Setting 5 labels for each audio example with their probabilities\n",
    "y_train = to_categorical(y_train, num_classes=5)\n",
    "y_test = to_categorical(y_test, num_classes=5)\n",
    "print('Y_Train Shape: ', y_train.shape)\n",
    "print('Y_Test Shape: ', y_test.shape)"
   ]
  },
  {
   "cell_type": "markdown",
   "metadata": {
    "id": "XU09x3xSVuxU"
   },
   "source": [
    "**CNN Model Creation**"
   ]
  },
  {
   "cell_type": "code",
   "execution_count": null,
   "metadata": {
    "id": "CJGsrd8dVySA"
   },
   "outputs": [],
   "source": [
    "#Creating a CNN model\n",
    "def CNN_model(n_width,n_height,n_channels,n_dropout,n_classes):\n",
    "    cnn_model = Sequential()\n",
    "\n",
    "    cnn_model.add(Conv2D(filters=24, kernel_size=(5,5), strides=(1, 1),input_shape=(n_width,n_height,n_channels), activation ='relu'))\n",
    "    cnn_model.add(MaxPooling2D((4, 2), strides=(4, 2)))\n",
    "\n",
    "    cnn_model.add(Conv2D(filters=48, kernel_size=(5,5), padding = 'valid', activation ='relu'))\n",
    "    cnn_model.add(MaxPooling2D((4, 2), strides=(4, 2)))\n",
    "\n",
    "    cnn_model.add(Conv2D(filters=48, kernel_size=(5,5), padding = 'valid', activation ='relu'))\n",
    "\n",
    "    cnn_model.add(Flatten())\n",
    "    cnn_model.add(Dropout(rate=n_dropout))\n",
    "\n",
    "    cnn_model.add(Dense(64, activation ='relu'))\n",
    "    cnn_model.add(Dropout(rate=n_dropout))\n",
    "\n",
    "    cnn_model.add(Dense(n_classes, activation ='softmax'))\n",
    "\n",
    "    return cnn_model\n"
   ]
  },
  {
   "cell_type": "code",
   "execution_count": null,
   "metadata": {
    "id": "GksBpRSiZghL"
   },
   "outputs": [],
   "source": [
    "cnn_model = CNN_model(x_train.shape[1], x_train.shape[2], x_train.shape[3], 0.5, len(encode.classes_))\n"
   ]
  },
  {
   "cell_type": "markdown",
   "metadata": {
    "id": "u9aTFxorimZS"
   },
   "source": [
    "**Setting Hyperparameters for the model**"
   ]
  },
  {
   "cell_type": "code",
   "execution_count": null,
   "metadata": {
    "colab": {
     "base_uri": "https://localhost:8080/"
    },
    "id": "0HNilFFOizGu",
    "outputId": "36a3a243-b096-4050-bf93-e8ea90cd7fea"
   },
   "outputs": [],
   "source": [
    "#Setting the learning rate and loss function for the model\n",
    "optimizer = Adam(learning_rate=0.0001)\n",
    "cnn_model.compile(loss='categorical_crossentropy', metrics=['accuracy'], optimizer=optimizer)\n",
    "cnn_model.summary()"
   ]
  },
  {
   "cell_type": "markdown",
   "metadata": {
    "id": "LC8LWftbkkuI"
   },
   "source": [
    "**Training and Saving the Best Model with Minimum Loss**"
   ]
  },
  {
   "cell_type": "code",
   "execution_count": null,
   "metadata": {
    "colab": {
     "base_uri": "https://localhost:8080/",
     "height": 164
    },
    "id": "x7Y36nhmktRl",
    "outputId": "38814ffc-64f9-4231-fff2-2f0379ba5b9a"
   },
   "outputs": [],
   "source": [
    "cnn_model.summary()"
   ]
  },
  {
   "cell_type": "code",
   "execution_count": null,
   "metadata": {
    "colab": {
     "background_save": true,
     "base_uri": "https://localhost:8080/"
    },
    "id": "yDmCdth5k9RQ",
    "outputId": "2a60f2e0-3028-464c-8ad3-df7df7afbcd8"
   },
   "outputs": [],
   "source": [
    "%%time\n",
    "%cd dir_path+woking #redundant, likely already in that directory\n",
    "# Training the model over 300 times and having a batch size of 128 and saving the best model in a .hdf5 file\n",
    "epochs = 300\n",
    "batch_size = 128\n",
    "file = 'cnn_heartbeat_classifier.hdf5'\n",
    "path = os.path.join(file)\n",
    "\n",
    "file_last = 'LAST_MODEL.hdf5'\n",
    "path1 = os.path.join(file_last)\n",
    "\n",
    "checkpoints_0 = ModelCheckpoint(filepath=path, save_best_only=True, verbose=1)\n",
    "checkpoints_1 = ModelCheckpoint(filepath=path1, save_best_only=False, verbose=1)\n",
    "\n",
    "cnn_history = cnn_model.fit(x_train, y_train, batch_size=batch_size, epochs=epochs, validation_data=(x_test, y_test),\n",
    "                            callbacks=[checkpoints_0, checkpoints_1], verbose=1)\n"
   ]
  },
  {
   "cell_type": "markdown",
   "metadata": {
    "id": "AV2MNXIOqn5P"
   },
   "source": [
    "**Accuracy and Loss Graphs**"
   ]
  },
  {
   "cell_type": "code",
   "execution_count": null,
   "metadata": {
    "colab": {
     "base_uri": "https://localhost:8080/",
     "height": 215
    },
    "id": "jLiDm8eDquEt",
    "outputId": "5167ea4c-ca3a-4703-dc16-c7770ed22c3e"
   },
   "outputs": [],
   "source": [
    "# Displaying the best training accuracy and loss score\n",
    "testing_scores = cnn_model.evaluate(x_test, y_test)\n",
    "print('Least Testing Loss:', testing_scores[0])\n",
    "print('Best Testing Accuracy:', testing_scores[1])\n"
   ]
  },
  {
   "cell_type": "code",
   "execution_count": null,
   "metadata": {},
   "outputs": [],
   "source": [
    "#Calculating and displaying the Precison, Recall and F1 score for each class\n",
    "preds = cnn_model.predict(x_test)\n",
    "y_actual = []\n",
    "y_pred = []\n",
    "\n",
    "labels = encode.classes_\n",
    "for idx, pred in enumerate(preds):\n",
    "    y_actual.append(labels[np.argmax(y_test[idx])])\n",
    "    y_pred.append(labels[np.argmax(pred)])\n",
    "\n",
    "print(classification_report(y_pred, y_actual))"
   ]
  },
  {
   "cell_type": "code",
   "execution_count": null,
   "metadata": {},
   "outputs": [],
   "source": [
    "cnn_history_history = cnn_history.history"
   ]
  },
  {
   "cell_type": "code",
   "execution_count": null,
   "metadata": {},
   "outputs": [],
   "source": [
    "plt.figure(figsize=(16,6))\n",
    "plt.plot(cnn_history_history['accuracy'], color = \"b\")\n",
    "plt.plot(cnn_history_history['val_accuracy'], color = 'r')\n",
    "plt.title('Model accuracy')\n",
    "plt.ylabel('Accuracy')\n",
    "plt.xlabel('Epoch')\n",
    "plt.legend(['Training Accuracy','Testing Accuracy'],loc='upper left')"
   ]
  },
  {
   "cell_type": "code",
   "execution_count": null,
   "metadata": {},
   "outputs": [],
   "source": [
    "plt.figure(figsize=(16,8))\n",
    "plt.plot(cnn_history_history['loss'], color = \"b\")\n",
    "plt.plot(cnn_history_history['val_loss'], color=\"r\")\n",
    "plt.title('Model loss')\n",
    "plt.ylabel('Loss')\n",
    "plt.xlabel('Epoch')\n",
    "plt.legend(['Training Loss','Testing Loss'],loc='upper right')"
   ]
  },
  {
   "cell_type": "code",
   "execution_count": null,
   "metadata": {},
   "outputs": [],
   "source": [
    "#ConfusionMatrixDisplay requires a higher version(sklearn>=1.0.0) sklearn, so function doesn't work, current version of sklearn is 0.21.3\n",
    "# cm_mat = confusion_matrix(y_actual,y_pred, labels=['normal', 'artifact', 'extrahls', 'murmur', 'extrastole'])\n",
    "# cm_display = metrics.ConfusionMatrixDisplay(confusion_matrix = cm_mat, display_labels = [False, True])\n",
    "# cm_display.plot()\n",
    "# plt.show()"
   ]
  },
  {
   "cell_type": "code",
   "execution_count": null,
   "metadata": {},
   "outputs": [],
   "source": [
    "loss, acc = cnn_model.evaluate(x_test, y_test, verbose=2)\n",
    "print('Restored model, accuracy: {:5.2f}%'.format(100 * acc))\n"
   ]
  },
  {
   "cell_type": "code",
   "execution_count": null,
   "metadata": {},
   "outputs": [],
   "source": [
    "cnn_model.save('file_name')"
   ]
  },
  {
   "cell_type": "code",
   "execution_count": null,
   "metadata": {},
   "outputs": [],
   "source": [
    "import tensorflow as tf\n",
    "fetched_model = tf.keras.models.load_model('file_name')\n",
    "fetched_model.summary()"
   ]
  },
  {
   "cell_type": "code",
   "execution_count": null,
   "metadata": {},
   "outputs": [],
   "source": [
    "os.getcwd()\n",
    "keras_model = tf.keras.models.load_model('file_name') #my_model.h5\n",
    "converter = tf.lite.TFLiteConverter.from_keras_model(keras_model)\n",
    "converter.experimental_new_converter = True \n",
    "tflite_model = converter.convert()\n",
    "open('file_name.tflite', \"wb\").write(tflite_model)"
   ]
  },
  {
   "cell_type": "code",
   "execution_count": null,
   "metadata": {},
   "outputs": [],
   "source": []
  },
  {
   "cell_type": "code",
   "execution_count": null,
   "metadata": {},
   "outputs": [],
   "source": []
  }
 ],
 "metadata": {
  "colab": {
   "provenance": []
  },
  "kernelspec": {
   "display_name": "Python 3 (ipykernel)",
   "language": "python",
   "name": "python3"
  },
  "language_info": {
   "codemirror_mode": {
    "name": "ipython",
    "version": 3
   },
   "file_extension": ".py",
   "mimetype": "text/x-python",
   "name": "python",
   "nbconvert_exporter": "python",
   "pygments_lexer": "ipython3",
   "version": "3.10.11"
  }
 },
 "nbformat": 4,
 "nbformat_minor": 1
}
